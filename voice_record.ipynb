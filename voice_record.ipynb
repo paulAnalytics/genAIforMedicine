{
 "cells": [
  {
   "attachments": {},
   "cell_type": "markdown",
   "metadata": {},
   "source": [
    "# Convert Mp4 File into .txt files\n",
    "\n",
    "This notebook will be used to convert audio files from medical sessions into a text file using whisper. The audio files are available at https://drive.google.com/drive/folders/13mf1ByM6EgwkoC5HQLBoVJbh4QjZS7Ek\n"
   ]
  },
  {
   "cell_type": "code",
   "execution_count": null,
   "metadata": {},
   "outputs": [],
   "source": [
    "# Download and install open-AI whisper\n",
    "\n",
    "pip install -U openai-whisper"
   ]
  },
  {
   "cell_type": "code",
   "execution_count": null,
   "metadata": {},
   "outputs": [],
   "source": [
    "pip install --upgrade --no-deps --force-reinstall git+https://github.com/openai/whisper.git"
   ]
  },
  {
   "cell_type": "code",
   "execution_count": 1,
   "metadata": {},
   "outputs": [
    {
     "name": "stderr",
     "output_type": "stream",
     "text": [
      "/Users/paulagbaje/anaconda3/lib/python3.10/site-packages/tqdm/auto.py:22: TqdmWarning: IProgress not found. Please update jupyter and ipywidgets. See https://ipywidgets.readthedocs.io/en/stable/user_install.html\n",
      "  from .autonotebook import tqdm as notebook_tqdm\n"
     ]
    }
   ],
   "source": [
    "import whisper"
   ]
  },
  {
   "cell_type": "code",
   "execution_count": 2,
   "metadata": {},
   "outputs": [],
   "source": [
    "import os\n",
    "# Add the directory containing 'ffmpeg' to the PATH\n",
    "os.environ['PATH'] = '/opt/homebrew/bin:' + os.environ.get('PATH', '')"
   ]
  },
  {
   "cell_type": "code",
   "execution_count": 3,
   "metadata": {},
   "outputs": [
    {
     "name": "stderr",
     "output_type": "stream",
     "text": [
      "/Users/paulagbaje/anaconda3/lib/python3.10/site-packages/whisper/transcribe.py:126: UserWarning: FP16 is not supported on CPU; using FP32 instead\n",
      "  warnings.warn(\"FP16 is not supported on CPU; using FP32 instead\")\n"
     ]
    }
   ],
   "source": [
    "# use whispser to convert audio file to text file\n",
    "model = whisper.load_model('base')\n",
    "\n",
    "result = model.transcribe(\"/Users/paulagbaje/Documents/RA role/StreamCode/Data/Audio Recordings/CAR0001.mp3\")"
   ]
  },
  {
   "cell_type": "code",
   "execution_count": 11,
   "metadata": {},
   "outputs": [
    {
     "name": "stdout",
     "output_type": "stream",
     "text": [
      " what brought you in today? Sure. I'm just having a lot of chest pain, and so I thought I should get it checked out. OK. And before we start, could you remind me of your gender and age? Sure. 39. I'm a male. OK. And so when did this chest pain start? It started last night, but it's becoming sharper. OK. And where is this pain located? It's located on the last side of my chest. OK. And so how long has it been going on for that if it started last night? So I guess it would be a couple of hours now, maybe like eight. OK. Has it been constant throughout that time or changing? I would say it's been pretty constant, yeah. OK. And how would you describe the pain? People will use words sometimes like sharp burning, achy. I think it's pretty sharp, yeah. Sharp. OK. Anything that you have done since last night that's made the pain better? Not laying down. Helps. OK. So do you find laying down makes the pain worse? Yes. Definitely. OK. Do you find that the pain is radiating anywhere? No. OK. And is there anything else that makes the pain worse besides laying down? Not that I've noticed. No. OK. So not like taking a deep breath or anything like that? Maybe taking a deep breath. Yeah. OK. And one of the pains started, could you tell you could you think of anything that you were doing at the time? Mm. I mean, I was moving some furniture around, but that I've done that before. OK. So you didn't feel like you hurt yourself when you were doing that? No. OK. And in regards to how severe the pain is, on a scale of 1 to 10, 10 being the worst pain you've ever felt, how severe would you say the pain is? I'd say it's like a seven or eight. Pretty bad. OK. And with the pain, do you have any other associated symptoms? I feel a little lightheaded, and I'm having some trouble breathing. OK. Have you had any loss of consciousness? No. OK. Have you been experiencing any racing of the heart? A little bit. Yeah. OK. And have you been sweaty at all? Just from the shirt, just from having issues breathing. OK. Have you been having issues breathing since the pain started? Yes. OK. Mm. And recently, have you had any periods of time where you have been immobilized or you haven't been able to move around a lot? No. No. OK. And have you been feeling sick at all, any infectious symptoms? No. OK. Have you had any nausea or vomiting? No. Any fevers or chills? No. OK. How about any abdominal pain? No. Any urinary problems? No. Or bowel problems? OK. Have you had a cough? No. OK. You haven't brought up any blood? No. You could cough? OK. Have you had a wheeze with your difficulty breathing? No. Not that I've heard. OK. Any changes to the breath sounds at all, like any noisy breathing? No. Well, I guess, when I'm really having trouble breathing, yeah. OK. Has anything like this ever happened to you before? No. No. OK. And have you had any night sweats? No. All right. And how about any rashes or skin changes? No rashes. But I guess, like, my neck seems to be a little swollen. OK. Do you have any neck pain? No. OK. Have you had any, like, accidents, like a car accident or anything where you really jerked your neck? No. OK. Any trauma at all to the chest or back? No. No. OK. So just in regards to past medical history, do you have any prior medical conditions? No. OK. Any recent hospitalizations? No. OK. Any prior surgeries? No. OK. Do you take any medications regularly? Are they prescribed or over the counter? No. All right. How about any allergies to medications? No. None. All right. Any immunizations? Or are they up to date? They're all up to date. Excellent. All right. And could you tell me a little bit about your living situation currently? Sure. I live in an apartment by myself. Yep. That's about it. OK. And how do you support yourself financially? I'm an accountant. OK. Sounds like a pretty stressful job. Or that it can be. Do you smoke cigarettes? I do. OK. And how much do you smoke? Smoke about a pack a day. OK. How long have you been smoking for? For the past 10 to 15 years. OK. And do you smoke cannabis? Sometimes. How much marijuana would you smoke per week? Per week? Maybe about five milligrams, not that much. OK. And do you use any other recreational drugs? Like cocaine, crystal meth, opioids? No. OK. Have you used IV drugs before? No. OK. And do you drink alcohol? I do. OK. How much alcohol do you drink each week? About I have like one or two drinks a day. So about 10 drinks a week. OK. And then briefly could you tell me a little bit about your diet and exercise? Sure. I try to eat healthy for dinner at least. But most of my lunches are I eat out. And then in terms of exercise, I try to exercise every other day. I run for about half an hour. OK. Oh, that's great. They're driven working on the activity and the diets as well. So has anything like this happened in your family before? No. OK. Has anybody in the family had a heart attack before? Actually, yes. My father had a heart attack when he was 45. OK. And anybody in the family have cholesterol problems? I think my father did. I see. OK. And how about anybody in the family have stroke? No strokes. OK. And then any cancers in the family? No. OK. Was there anything else that you wanted to tell me about today that on history? No, I don't think so. I think you asked me everything.\n"
     ]
    }
   ],
   "source": [
    "# Result of the transcription\n",
    "print(result['text'])\n"
   ]
  },
  {
   "attachments": {},
   "cell_type": "markdown",
   "metadata": {},
   "source": [
    "Below, we compare the output from the transcription using whisper with an actual validated file transcription. It can be observed that whisper does a great job converting the file to text. Whisper does comparatively better than google speech recognition. Code excerpts of speech recognition where removed for clarity\n"
   ]
  },
  {
   "cell_type": "code",
   "execution_count": 4,
   "metadata": {},
   "outputs": [
    {
     "name": "stdout",
     "output_type": "stream",
     "text": [
      "                                                                                                                                                                                                0\n",
      "0                                                                                                                                                                   D: What brought you in today?\n",
      "1                                                                                              P: Sure, I'm I'm just having a lot of chest pain and and so I thought I should get it checked out.\n",
      "2                                                                                                                            D: OK, before we start, could you remind me of your gender and age? \n",
      "3                                                                                                                                                                         P: Sure 39, I'm a male.\n",
      "4                                                                                                                                                   D: OK, and so when did this chest pain start?\n",
      "5                                                                                                                                            P: It started last night, but it's becoming sharper.\n",
      "6                                                                                                                                                         D: OK, and where is this pain located? \n",
      "7                                                                                                                                                   P: It's located on the left side of my chest.\n",
      "8                                                                                                                 D: OK, and, so how long has it been going on for then if it started last night?\n",
      "9                                                                                                                                  P: So I guess it would be a couple of hours now, maybe like 8.\n",
      "10                                                                                                                         D: OK. Has it been constant throughout that time, or uh, or changing? \n",
      "11                                                                                                                                                P: I would say it's been pretty constant, yeah.\n",
      "12                                                                                        D: OK, and how would you describe the pain? People will use words sometimes like sharp, burning, achy. \n",
      "13                                                                                                                                                            P: I'd say it's pretty sharp, yeah.\n",
      "14                                                                                               D: Sharp OK. Uh, anything that you have done tried since last night that's made the pain better?\n",
      "15                                                                                                                                                                   P: Um not laying down helps.\n",
      "16                                                                                                                                        D: OK, so do you find laying down makes the pain worse?\n",
      "17                                                                                                                                                                            P: Yes, definitely.\n",
      "18                                                                                                                                        D: OK, do you find that the pain is radiating anywhere?\n",
      "19                                                                                                                                                                                         P: No.\n",
      "20                                                                                                              D: OK, and is there anything else that makes the pain worse besides laying down? \n",
      "21                                                                                                                                                                  P: Not that I've noticed, no.\n",
      "22                                                                                                                                 D: OK, so not like taking a deep breath or anything like that?\n",
      "23                                                                                                                                                           P: Maybe taking a deep breath. Yeah.\n",
      "24                                                                           D: OK. And when the pain started, could you tell me uh, could you think of anything that you were doing at the time?\n",
      "25                                                                                                                P: I mean, I was moving some furniture around, but, that I've done that before.\n",
      "26                                                                                                                     D: OK, so you didn't feel like you hurt yourself when you were doing that?\n",
      "27                                                                                                                                                                                         P: No.\n",
      "28                                         D: OK, and in regards to how severe the pain is on a scale of 1 to 10, 10 being the worst pain you've ever felt, how severe would you say the pain is?\n",
      "29                                                                                                                                        P: I'd say it's like a seven or eight. It's pretty bad.\n",
      "30                                                                                                                           D: OK, and with the pain, do you have any other associated symptoms?\n",
      "31                                                                                                                          P: I feel a little lightheaded and I'm having some trouble breathing.\n",
      "32                                                                                                                                                 D: OK. Have you had any loss of consciousness?\n",
      "33                                                                                                                                                                                         P: No.\n",
      "34                                                                                                                           D: OK. Uh, have you been experiencing any like racing of the heart? \n",
      "35                                                                                                                                                                     P: Um, a little bit, yeah.\n",
      "36                                                                                                                                                        D: OK. And have you been sweaty at all?\n",
      "37                                                                                                                                                 P: Just from the from having issues breathing.\n",
      "38                                                                                                                          D: OK, have you been having issues breathing since the pain started? \n",
      "39                                                                                                                                                                                        P: Yes.\n",
      "40                                               D: OK. Um recently have you had any periods of time where you like have been immobilized or or, you haven't been like able to move around a lot?\n",
      "41                                                                                                                                                                                     P: No no. \n",
      "42                                                                                                                        D: OK. And have you been feeling sick at all? Any infectious symptoms? \n",
      "43                                                                                                                                                                                        P: No. \n",
      "44                                                                                                                                                   D: OK, have you had any nausea or vomiting? \n",
      "45                                                                                                                                                                                        P: No. \n",
      "46                                                                                                                                                                       D: Any fevers or chills?\n",
      "47                                                                                                                                                                                        P: No. \n",
      "48                                                                                                                                                           D: OK, how about any abdominal pain?\n",
      "49                                                                                                                                                                                         P: No.\n",
      "50                                                                                                                                                                       D: Any urinary problems?\n",
      "51                                                                                                                                                                                         P: No.\n",
      "52                                                                                                                                                                          D: Or bowel problems?\n",
      "53                                                                                                                                                                                         P: No.\n",
      "54                                                                                                                                                                   D: OK, have you had a cough?\n",
      "55                                                                                                                                                                                         P: No.\n",
      "56                                                                                                                                                       D: OK. You haven't brought up any blood?\n",
      "57                                                                                                                                                                                        P: No. \n",
      "58                                                                                                                                   D: OK, have you had a wheeze with your difficulty breathing?\n",
      "59                                                                                                                                                                    P: No, not that I've heard.\n",
      "60                                                                                                                       D: OK, any changes to the breath sounds at all like any noisy breathing?\n",
      "61                                                                                                                        P: No. Well, I guess if when I'm really having trouble breathing, yeah.\n",
      "62                                                                                                                                     D: OK. Has anything like this ever happened to you before?\n",
      "63                                                                                                                                                                                        P: No. \n",
      "64                                                                                                                                                  D: No, OK. And have you had any night sweats?\n",
      "65                                                                                                                                                                                        P: No. \n",
      "66                                                                                                                                     D: Alright, and then how about any rashes or skin changes?\n",
      "67                                                                                                                          P: No rashes, but I guess like my neck seems to be a little swollen. \n",
      "68                                                                                                                                                             D: OK, do you have any neck pain? \n",
      "69                                                                                                                                                                                        P: No. \n",
      "70                                                                                     D: OK, have you had any like accidents like a car accident or anything where you really jerked your neck? \n",
      "71                                                                                                                                                                                         P: No.\n",
      "72                                                                                                                                       D: OK. Um any any trauma at all to the chest or or back?\n",
      "73                                                                                                                                                                                         P: No.\n",
      "74                                                                                                  D: OK, so just in regards to past medical history, do you have any prior medical conditions? \n",
      "75                                                                                                                                                                                         P: No.\n",
      "76                                                                                                                                                            D: OK, any recent hospitalizations?\n",
      "77                                                                                                                                                                                        P: No. \n",
      "78                                                                                                                                                                    D: OK, any prior surgeries?\n",
      "79                                                                                                                                                                                         P: No.\n",
      "80                                                                                                         D: OK, do you take any medications regularly? Are they prescribed or over the counter?\n",
      "81                                                                                                                                                                                        P: No. \n",
      "82                                                                                                                                           D: Alright, how about any allergies to medications? \n",
      "83                                                                                                                                                                                       P: None.\n",
      "84                                                                                                                                         D: Alright, any immunizations or are they up to date? \n",
      "85                                                                                                                                                                    P: They are all up to date.\n",
      "86                                                                                              D: Excellent. Alright, and could you tell me a little bit about your living situation currently? \n",
      "87                                                                                                                        P: Sure, I live in an apartment by myself. I, uh, yep, that's about it.\n",
      "88                                                                                                                                            D: OK, and how do you support yourself financially?\n",
      "89                                                                                                                                                                          P: I'm an accountant.\n",
      "90                                                                                                         D: OK, sounds like a pretty stressful job or that it can be. Do you smoke cigarettes? \n",
      "91                                                                                                                                                                                       P: I do.\n",
      "92                                                                                                                                                              D: OK, and how much do you smoke?\n",
      "93                                                                                                                                                                 P: I smoke about a pack a day.\n",
      "94                                                                                                                                                     D: OK, how long have you been smoking for?\n",
      "95                                                                                                                                                                P: For the past 10 to 15 years.\n",
      "96                                                                                                                                                              D: OK, and do you smoke cannabis?\n",
      "97                                                                                                                                                                              P: Uh sometimes. \n",
      "98                                                                                                                                       D: Uh, how much marijuana would you smoke per per week? \n",
      "99                                                                                                                                          P: Per week, maybe about 5 milligrams. Not that much.\n",
      "100                                                                                                      D: OK, and do you use any other recreational drugs like cocaine, crystal, meth, opioids?\n",
      "101                                                                                                                                                                                        P: No.\n",
      "102                                                                                                                                                         D: OK. Have you used IV drugs before?\n",
      "103                                                                                                                                                                                       P: No. \n",
      "104                                                                                                                                                              D: OK. And do you drink alcohol?\n",
      "105                                                                                                                                                                                      P: I do.\n",
      "106                                                                                                                                               D: OK. How much alcohol do you drink each week?\n",
      "107                                                                                                     P: Uhm about I would say I have like one or two drinks a day, so about 10 drinks a week. \n",
      "108                                                                           D: OK, uh, yeah and um alright, and then briefly, could you tell me a little bit about your like diet and exercise?\n",
      "109  P: Sure, I try to eat healthy for dinner at least, but most of my lunches are, uh I eat out. And then in terms of exercise, I try to exercise every other day, I run for about half an hour.\n",
      "110                                         D; OK, well that's great that you've been working on the the activity and the diet as well. So has anything like this happened in your family before?\n",
      "111                                                                                                                                                                                       P: No. \n",
      "112                                                                                                                                   D: OK, has anybody in the family had a heart attack before?\n",
      "113                                                                                                                                P: Actually, yes, my father had a heart attack when he was 45.\n",
      "114                                                                                                                                   D: OK, and anybody in the family have cholesterol problems?\n",
      "115                                                                                                                                                                     P: I think my father did.\n",
      "116                                                                                                                               D: I see OK, and how about anybody in the family have a stroke?\n",
      "117                                                                                                                                                                                P: No strokes.\n",
      "118                                                                                                                                                    D: OK, and then any cancers in the family?\n",
      "119                                                                                                                                                                                        P: No.\n",
      "120                                                                                          D: OK, and is there anything else that you wanted to tell me about today that that I on on history? \n",
      "121                                                                                                                                     P: No, I don't think so. I think you asked me everything.\n"
     ]
    }
   ],
   "source": [
    "\n",
    "import pandas as pd\n",
    "\n",
    "file_path = '/Users/paulagbaje/Documents/RA role/StreamCode/Data/Clean Transcripts/CAR0001.txt'\n",
    "\n",
    "actual_result = pd.read_table(file_path,  header=None)\n",
    "\n",
    "# Display the DataFrame\n",
    "with pd.option_context('display.max_colwidth', None):\n",
    "    print(actual_result)\n"
   ]
  },
  {
   "attachments": {},
   "cell_type": "markdown",
   "metadata": {},
   "source": []
  }
 ],
 "metadata": {
  "kernelspec": {
   "display_name": "Python 3",
   "language": "python",
   "name": "python3"
  },
  "language_info": {
   "codemirror_mode": {
    "name": "ipython",
    "version": 3
   },
   "file_extension": ".py",
   "mimetype": "text/x-python",
   "name": "python",
   "nbconvert_exporter": "python",
   "pygments_lexer": "ipython3",
   "version": "3.10.9"
  },
  "orig_nbformat": 4
 },
 "nbformat": 4,
 "nbformat_minor": 2
}
